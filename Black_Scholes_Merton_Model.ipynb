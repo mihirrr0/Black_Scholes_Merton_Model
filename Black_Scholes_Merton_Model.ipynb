{
 "cells": [
  {
   "cell_type": "code",
   "execution_count": 1,
   "id": "679c02c3",
   "metadata": {},
   "outputs": [],
   "source": [
    "import numpy as np\n",
    "from scipy.stats import norm"
   ]
  },
  {
   "cell_type": "code",
   "execution_count": 2,
   "id": "18744996",
   "metadata": {
    "scrolled": true
   },
   "outputs": [
    {
     "name": "stdout",
     "output_type": "stream",
     "text": [
      "Spot Price: 18311.20\n",
      "Strike Price: 18200\n",
      "Time to Expiry: 3\n",
      "IV: 0.15\n"
     ]
    }
   ],
   "source": [
    "S= float(input(\"Spot Price: \"))\n",
    "K= int(input(\"Strike Price: \"))\n",
    "r= 0.10\n",
    "t= int(input(\"Time to Expiry: \"))\n",
    "T=t/365\n",
    "sigma= float(input(\"IV: \"))"
   ]
  },
  {
   "cell_type": "code",
   "execution_count": 3,
   "id": "0385451e",
   "metadata": {},
   "outputs": [],
   "source": [
    "d1=(np.log(S/K)+((r+sigma**2/2)*T))/ (sigma*np.sqrt(T))\n",
    "d2=d1-(sigma*np.sqrt(T))\n",
    "call_price=S*norm.cdf(d1,0,1)-norm.cdf(d2,0,1)*K*np.exp(-r*T)\n",
    "put_price=norm.cdf(-d2,0,1)*K*np.exp(-r*T)-S*norm.cdf(-d1,0,1)"
   ]
  },
  {
   "cell_type": "code",
   "execution_count": 4,
   "id": "9f4fab3e",
   "metadata": {},
   "outputs": [
    {
     "name": "stdout",
     "output_type": "stream",
     "text": [
      "Call Option Premium: 174.5988297126314\n",
      "Put Option Premium: 48.44607141398137\n"
     ]
    }
   ],
   "source": [
    "print(\"Call Option Premium: {}\".format(call_price))\n",
    "print(\"Put Option Premium: {}\".format(put_price))"
   ]
  },
  {
   "cell_type": "code",
   "execution_count": 5,
   "id": "eb505e52",
   "metadata": {},
   "outputs": [],
   "source": [
    "call_delta = norm.cdf(d1,0,1)\n",
    "put_delta = call_delta-1"
   ]
  },
  {
   "cell_type": "code",
   "execution_count": 6,
   "id": "e0822f68",
   "metadata": {},
   "outputs": [],
   "source": [
    "gamma = norm.pdf(d1,0,1)/(S*sigma*np.sqrt(T))"
   ]
  },
  {
   "cell_type": "code",
   "execution_count": 7,
   "id": "06194c35",
   "metadata": {},
   "outputs": [],
   "source": [
    "vega=(S*np.sqrt(T)*norm.pdf(d1,0,1))/100"
   ]
  },
  {
   "cell_type": "code",
   "execution_count": 8,
   "id": "b4faa331",
   "metadata": {},
   "outputs": [],
   "source": [
    "call_theta=-S*sigma*norm.pdf(d1,0,1)/(2*np.sqrt(T)) - r*K*np.exp(-r*T)*norm.cdf(d2)\n",
    "call_theta=call_theta/365\n",
    "put_theta=-S*sigma*norm.pdf(d1,0,1)/(2*np.sqrt(T)) + r*K*np.exp(-r*T)*norm.cdf(-d2)\n",
    "put_theta=put_theta/36"
   ]
  },
  {
   "cell_type": "code",
   "execution_count": 9,
   "id": "fefb4097",
   "metadata": {},
   "outputs": [],
   "source": [
    "call_rho= (K*T*np.exp(-r*T)*norm.cdf(d2,0,1))/100\n",
    "put_rho= (-K*T*np.exp(-r*T)*norm.cdf(-d2,0,1))/100"
   ]
  },
  {
   "cell_type": "code",
   "execution_count": 10,
   "id": "ad286ab1",
   "metadata": {},
   "outputs": [
    {
     "name": "stdout",
     "output_type": "stream",
     "text": [
      "Call Option Premium: 174.5988297126314\n",
      "Put Option Premium: 48.44607141398137\n",
      "Call Option Delta: 0.6967806150653882\n",
      "Put Option Delta: -0.30321938493461176\n",
      "Option Gamma: 0.0014030022036982425\n",
      "Call Option Theta: -17.947203949937617\n",
      "Put Option Theta: -131.45068659880818\n",
      "Call Option Rho: 1.0343252357977564\n",
      "Put Option Rho: -0.46033618132838167\n",
      "Option Vega: 5.799781265578037\n"
     ]
    }
   ],
   "source": [
    "print(\"Call Option Premium: {}\".format(call_price))\n",
    "print(\"Put Option Premium: {}\".format(put_price))\n",
    "print(\"Call Option Delta: {}\".format(call_delta))\n",
    "print(\"Put Option Delta: {}\".format(put_delta))\n",
    "print(\"Option Gamma: {}\".format(gamma))\n",
    "print(\"Call Option Theta: {}\".format(call_theta))\n",
    "print(\"Put Option Theta: {}\".format(put_theta))\n",
    "print(\"Call Option Rho: {}\".format(call_rho))\n",
    "print(\"Put Option Rho: {}\".format(put_rho))\n",
    "print(\"Option Vega: {}\".format(vega))"
   ]
  }
 ],
 "metadata": {
  "kernelspec": {
   "display_name": "Python 3 (ipykernel)",
   "language": "python",
   "name": "python3"
  },
  "language_info": {
   "codemirror_mode": {
    "name": "ipython",
    "version": 3
   },
   "file_extension": ".py",
   "mimetype": "text/x-python",
   "name": "python",
   "nbconvert_exporter": "python",
   "pygments_lexer": "ipython3",
   "version": "3.10.9"
  }
 },
 "nbformat": 4,
 "nbformat_minor": 5
}
